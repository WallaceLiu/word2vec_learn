{
 "cells": [
  {
   "cell_type": "code",
   "execution_count": 1,
   "metadata": {},
   "outputs": [],
   "source": [
    "import jieba\n",
    "import gensim.models.word2vec as w2v"
   ]
  },
  {
   "cell_type": "markdown",
   "metadata": {},
   "source": [
    "# 分词"
   ]
  },
  {
   "cell_type": "code",
   "execution_count": 2,
   "metadata": {},
   "outputs": [
    {
     "name": "stderr",
     "output_type": "stream",
     "text": [
      "Building prefix dict from the default dictionary ...\n",
      "Loading model from cache /var/folders/fb/jcf536t9265fc_nlmqdcwd9jsf5jrm/T/jieba.cache\n",
      "Loading model cost 0.831 seconds.\n",
      "Prefix dict has been built successfully.\n"
     ]
    }
   ],
   "source": [
    "file_path = '../txt/jinYong.txt'\n",
    "file_segment_path = '../txt/jinYong_segment.txt'\n",
    "\n",
    "fin = open(file_path, 'r', encoding='UTF-8')\n",
    "fou = open(file_segment_path, 'w', encoding='UTF-8')\n",
    "line = fin.readline()\n",
    "while line:\n",
    "    newline = jieba.cut(line, cut_all=False)\n",
    "    str_out = ' '.join(newline).replace('，', '').replace('。', '').replace('?', '').replace('!', '') \\\n",
    "        .replace('“', '').replace('”', '').replace('：', '').replace('‘', '').replace('’', '').replace('-', '') \\\n",
    "        .replace('（', '').replace('）', '').replace('《', '').replace('》', '').replace('；', '').replace('.', '') \\\n",
    "        .replace('、', '').replace('...', '').replace(',', '').replace('？', '').replace('！', '')\n",
    "    print(str_out, file=fou)\n",
    "    line = fin.readline()\n",
    "fin.close()\n",
    "fou.close()"
   ]
  },
  {
   "cell_type": "markdown",
   "metadata": {},
   "source": [
    "# 向量化"
   ]
  },
  {
   "cell_type": "code",
   "execution_count": 3,
   "metadata": {},
   "outputs": [],
   "source": [
    "model_file_name = '../txt/jinYong_vector.txt'\n",
    "# 模型训练，生成词向量\n",
    "sentences = w2v.LineSentence(file_segment_path)\n",
    "model = w2v.Word2Vec(sentences, size=20, window=5, min_count=5, workers=4)\n",
    "model.save(model_file_name)\n",
    "print('end.')"
   ]
  },
  {
   "cell_type": "code",
   "execution_count": null,
   "metadata": {},
   "outputs": [],
   "source": []
  }
 ],
 "metadata": {
  "kernelspec": {
   "display_name": "Python 3",
   "language": "python",
   "name": "python3"
  },
  "language_info": {
   "codemirror_mode": {
    "name": "ipython",
    "version": 3
   },
   "file_extension": ".py",
   "mimetype": "text/x-python",
   "name": "python",
   "nbconvert_exporter": "python",
   "pygments_lexer": "ipython3",
   "version": "3.7.5"
  }
 },
 "nbformat": 4,
 "nbformat_minor": 2
}
