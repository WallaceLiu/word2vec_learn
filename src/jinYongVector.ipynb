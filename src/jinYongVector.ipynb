{
 "cells": [
  {
   "cell_type": "markdown",
   "metadata": {},
   "source": [
    "# 目录\n",
    "- 分词\n",
    "- 词向量\n",
    "- 参考"
   ]
  },
  {
   "cell_type": "code",
   "execution_count": 57,
   "metadata": {},
   "outputs": [],
   "source": [
    "import jieba\n",
    "import gensim.models.word2vec as w2v"
   ]
  },
  {
   "cell_type": "markdown",
   "metadata": {},
   "source": [
    "# 分词"
   ]
  },
  {
   "cell_type": "markdown",
   "metadata": {},
   "source": [
    "## 简单"
   ]
  },
  {
   "cell_type": "code",
   "execution_count": 58,
   "metadata": {},
   "outputs": [
    {
     "name": "stdout",
     "output_type": "stream",
     "text": [
      "Full Mode: 我/ 来到/ 北京/ 清华/ 清华大学/ 华大/ 大学\n",
      "Default Mode: 我/ 来到/ 北京/ 清华大学\n",
      "他, 来到, 了, 网易, 杭研, 大厦\n",
      "小明, 硕士, 毕业, 于, 中国, 科学, 学院, 科学院, 中国科学院, 计算, 计算所, ，, 后, 在, 日本, 京都, 大学, 日本京都大学, 深造\n"
     ]
    }
   ],
   "source": [
    "seg_list = jieba.cut(\"我来到北京清华大学\", cut_all=True)\n",
    "print(\"Full Mode: \" + \"/ \".join(seg_list)) # 全模式\n",
    "\n",
    "seg_list = jieba.cut(\"我来到北京清华大学\", cut_all=False)\n",
    "print(\"Default Mode: \" + \"/ \".join(seg_list)) # 精确模式\n",
    "\n",
    "seg_list = jieba.cut(\"他来到了网易杭研大厦\") # 默认是精确模式\n",
    "print(\", \".join(seg_list))\n",
    "\n",
    "seg_list = jieba.cut_for_search(\"小明硕士毕业于中国科学院计算所，后在日本京都大学深造\") # 搜索引擎模式\n",
    "print(\", \".join(seg_list))"
   ]
  },
  {
   "cell_type": "markdown",
   "metadata": {},
   "source": [
    "## 倚天屠龙记"
   ]
  },
  {
   "cell_type": "code",
   "execution_count": 59,
   "metadata": {},
   "outputs": [],
   "source": [
    "file_path = '../txt/jinYong.txt'\n",
    "file_segment_path = '../txt/jinYong_segment.txt'\n",
    "\n",
    "fin = open(file_path, 'r', encoding='UTF-8')\n",
    "fou = open(file_segment_path, 'w', encoding='UTF-8')\n",
    "line = fin.readline()\n",
    "while line:\n",
    "    newline = jieba.cut(line, cut_all=False)\n",
    "    str_out = ' '.join(newline).replace('，', '').replace('。', '').replace('?', '').replace('!', '') \\\n",
    "        .replace('“', '').replace('”', '').replace('：', '').replace('‘', '').replace('’', '').replace('-', '') \\\n",
    "        .replace('（', '').replace('）', '').replace('《', '').replace('》', '').replace('；', '').replace('.', '') \\\n",
    "        .replace('、', '').replace('...', '').replace(',', '').replace('？', '').replace('！', '')\n",
    "    print(str_out, file=fou)\n",
    "    line = fin.readline()\n",
    "fin.close()\n",
    "fou.close()"
   ]
  },
  {
   "cell_type": "markdown",
   "metadata": {},
   "source": [
    "# 词向量"
   ]
  },
  {
   "cell_type": "code",
   "execution_count": 60,
   "metadata": {},
   "outputs": [
    {
     "name": "stdout",
     "output_type": "stream",
     "text": [
      "end.\n"
     ]
    }
   ],
   "source": [
    "model_file_name = '../txt/jinYong_vector.txt'\n",
    "sentences = w2v.LineSentence(file_segment_path)\n",
    "model = w2v.Word2Vec(sentences, size=20, window=5, min_count=2, workers=4)\n",
    "model.save(model_file_name)\n",
    "print('end.')"
   ]
  },
  {
   "cell_type": "markdown",
   "metadata": {},
   "source": [
    "### 相似度查询"
   ]
  },
  {
   "cell_type": "markdown",
   "metadata": {},
   "source": [
    "- load"
   ]
  },
  {
   "cell_type": "code",
   "execution_count": 61,
   "metadata": {},
   "outputs": [],
   "source": [
    "model=w2v.Word2Vec.load(model_file_name)"
   ]
  },
  {
   "cell_type": "markdown",
   "metadata": {},
   "source": [
    "- 赵敏和赵敏的相似度"
   ]
  },
  {
   "cell_type": "code",
   "execution_count": 62,
   "metadata": {
    "scrolled": true
   },
   "outputs": [
    {
     "name": "stdout",
     "output_type": "stream",
     "text": [
      "1.0\n"
     ]
    }
   ],
   "source": [
    "print(model.wv.similarity('赵敏','赵敏'))"
   ]
  },
  {
   "cell_type": "markdown",
   "metadata": {},
   "source": [
    "- 赵敏和周芷若的相似度"
   ]
  },
  {
   "cell_type": "code",
   "execution_count": 63,
   "metadata": {},
   "outputs": [
    {
     "name": "stdout",
     "output_type": "stream",
     "text": [
      "0.98149395\n"
     ]
    }
   ],
   "source": [
    "print(model.wv.similarity('赵敏','周芷若'))"
   ]
  },
  {
   "cell_type": "markdown",
   "metadata": {},
   "source": [
    "- 以下代码用于输出与张三丰相似度最高的词"
   ]
  },
  {
   "cell_type": "code",
   "execution_count": 66,
   "metadata": {},
   "outputs": [
    {
     "name": "stdout",
     "output_type": "stream",
     "text": [
      "('周芷若', 0.9861929416656494)\n",
      "('张无忌', 0.9857303500175476)\n",
      "('殷素素', 0.9827844500541687)\n",
      "('谢逊', 0.966285765171051)\n",
      "('转头', 0.9622457027435303)\n",
      "('赵敏', 0.9503951668739319)\n",
      "('韩大哥', 0.9469349980354309)\n",
      "('低声', 0.9464889168739319)\n",
      "('忙', 0.9463018774986267)\n",
      "('杨不悔', 0.9457469582557678)\n"
     ]
    }
   ],
   "source": [
    "for vec in model.wv.most_similar('张翠山'):\n",
    "    print(vec)"
   ]
  },
  {
   "cell_type": "code",
   "execution_count": 67,
   "metadata": {},
   "outputs": [
    {
     "name": "stdout",
     "output_type": "stream",
     "text": [
      "('递来', 0.6295625567436218)\n",
      "('传呼', 0.6110665798187256)\n",
      "('抖出', 0.6082355380058289)\n",
      "('左接', 0.6032118797302246)\n",
      "('下舱', 0.6030962467193604)\n",
      "('平淡', 0.6002418994903564)\n",
      "('剑花', 0.5977963209152222)\n",
      "('上流', 0.5779740810394287)\n",
      "('合击', 0.5672726631164551)\n",
      "('婉转', 0.5646272897720337)\n"
     ]
    }
   ],
   "source": [
    "for vec in model.wv.most_similar('张三丰'):\n",
    "    print(vec)"
   ]
  },
  {
   "cell_type": "markdown",
   "metadata": {},
   "source": [
    "# 参考"
   ]
  },
  {
   "cell_type": "markdown",
   "metadata": {},
   "source": [
    "- [gensim](https://radimrehurek.com/gensim/auto_examples/index.html)"
   ]
  }
 ],
 "metadata": {
  "kernelspec": {
   "display_name": "Python 3",
   "language": "python",
   "name": "python3"
  },
  "language_info": {
   "codemirror_mode": {
    "name": "ipython",
    "version": 3
   },
   "file_extension": ".py",
   "mimetype": "text/x-python",
   "name": "python",
   "nbconvert_exporter": "python",
   "pygments_lexer": "ipython3",
   "version": "3.7.5"
  }
 },
 "nbformat": 4,
 "nbformat_minor": 2
}
